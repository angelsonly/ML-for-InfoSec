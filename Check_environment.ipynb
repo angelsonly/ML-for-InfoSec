{
 "cells": [
  {
   "cell_type": "code",
   "execution_count": null,
   "metadata": {
    "collapsed": true
   },
   "outputs": [],
   "source": [
    "import os\n",
    "import sys\n",
    "sys.executable"
   ]
  },
  {
   "cell_type": "code",
   "execution_count": null,
   "metadata": {
    "collapsed": true
   },
   "outputs": [],
   "source": [
    "import sys\n",
    "sys.version"
   ]
  },
  {
   "cell_type": "code",
   "execution_count": null,
   "metadata": {
    "collapsed": true
   },
   "outputs": [],
   "source": [
    "import jupyter\n",
    "jupyter.__file__"
   ]
  },
  {
   "cell_type": "code",
   "execution_count": null,
   "metadata": {
    "collapsed": true
   },
   "outputs": [],
   "source": [
    "import pip\n",
    "import numpy\n",
    "import jupyter\n",
    "import matplotlib\n",
    "import sklearn\n",
    "import scipy\n",
    "import pandas\n",
    "import PIL\n",
    "import seaborn\n",
    "import h5py\n",
    "import tensorflow\n",
    "import keras\n",
    "\n",
    "assert(pip.__version__ == '9.0.1')\n",
    "assert(numpy.__version__ == '1.12.0')\n",
    "assert(matplotlib.__version__ == '2.0.0')\n",
    "assert(sklearn.__version__ == '0.18.1')\n",
    "assert(scipy.__version__ == '0.19.0')\n",
    "assert(pandas.__version__ == '0.19.2')\n",
    "assert(PIL.__version__ == '4.0.0')\n",
    "assert(seaborn.__version__ == '0.7.1')\n",
    "assert(h5py.__version__ == '2.7.0')\n",
    "assert(tensorflow.__version__ == '1.1.0')\n",
    "assert(keras.__version__ == '2.0.4')\n",
    "\n",
    "print(\"Here we go!\")"
   ]
  }
 ],
 "metadata": {
  "kernelspec": {
   "display_name": "Python 3",
   "language": "python",
   "name": "python3"
  },
  "language_info": {
   "codemirror_mode": {
    "name": "ipython",
    "version": 3
   },
   "file_extension": ".py",
   "mimetype": "text/x-python",
   "name": "python",
   "nbconvert_exporter": "python",
   "pygments_lexer": "ipython3",
   "version": "3.5.2"
  }
 },
 "nbformat": 4,
 "nbformat_minor": 1
}
